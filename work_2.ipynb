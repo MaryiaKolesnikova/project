{
 "cells": [
  {
   "cell_type": "code",
   "execution_count": 1,
   "id": "fffc38dd-e78c-40d9-9637-3f0e461bfd21",
   "metadata": {},
   "outputs": [],
   "source": [
    "import numpy as np\n",
    "import pandas as pd\n",
    "from scipy.stats import mannwhitneyu\n",
    "from scipy.stats import ttest_ind\n",
    "from scipy.stats import norm\n",
    "import matplotlib.pyplot as plt\n",
    "import seaborn as sns\n",
    "import seaborn as sns\n",
    "from scipy.stats import shapiro\n",
    "\n",
    "from sklearn.preprocessing import StandardScaler\n",
    "from sklearn.cluster import KMeans"
   ]
  },
  {
   "cell_type": "code",
   "execution_count": 2,
   "id": "1d02ce08-5180-48a7-bf40-15a0a06b4ad5",
   "metadata": {},
   "outputs": [],
   "source": [
    "df = pd.read_csv('alzheimers_disease_data.csv', sep = ',')"
   ]
  },
  {
   "cell_type": "code",
   "execution_count": 3,
   "id": "6a7cd8c1-339a-4a53-8472-6b1350f611e0",
   "metadata": {},
   "outputs": [
    {
     "name": "stdout",
     "output_type": "stream",
     "text": [
      "Optimization terminated successfully.\n",
      "         Current function value: 0.371584\n",
      "         Iterations 7\n",
      "                           Logit Regression Results                           \n",
      "==============================================================================\n",
      "Dep. Variable:              Diagnosis   No. Observations:                 2149\n",
      "Model:                          Logit   Df Residuals:                     2132\n",
      "Method:                           MLE   Df Model:                           16\n",
      "Date:                Sun, 01 Sep 2024   Pseudo R-squ.:                  0.4280\n",
      "Time:                        21:31:13   Log-Likelihood:                -798.53\n",
      "converged:                       True   LL-Null:                       -1396.2\n",
      "Covariance Type:            nonrobust   LLR p-value:                1.556e-244\n",
      "=============================================================================================\n",
      "                                coef    std err          z      P>|z|      [0.025      0.975]\n",
      "---------------------------------------------------------------------------------------------\n",
      "intercept                     3.6424      0.670      5.438      0.000       2.330       4.955\n",
      "SystolicBP                   -0.0003      0.002     -0.127      0.899      -0.005       0.004\n",
      "DiastolicBP                   0.0015      0.004      0.425      0.671      -0.005       0.009\n",
      "CholesterolTotal              0.0005      0.001      0.351      0.725      -0.002       0.003\n",
      "CholesterolLDL               -0.0031      0.001     -2.059      0.039      -0.006      -0.000\n",
      "CholesterolHDL                0.0046      0.003      1.692      0.091      -0.001       0.010\n",
      "CholesterolTriglycerides      0.0007      0.001      1.193      0.233      -0.000       0.002\n",
      "MMSE                         -0.1068      0.008    -13.139      0.000      -0.123      -0.091\n",
      "FunctionalAssessment         -0.4483      0.026    -17.088      0.000      -0.500      -0.397\n",
      "MemoryComplaints              2.5908      0.165     15.655      0.000       2.266       2.915\n",
      "BehavioralProblems            2.4717      0.182     13.580      0.000       2.115       2.828\n",
      "ADL                          -0.4181      0.026    -16.272      0.000      -0.468      -0.368\n",
      "Confusion                    -0.1465      0.158     -0.928      0.353      -0.456       0.163\n",
      "Disorientation               -0.0912      0.172     -0.529      0.597      -0.429       0.247\n",
      "PersonalityChanges           -0.0427      0.180     -0.237      0.813      -0.396       0.310\n",
      "DifficultyCompletingTasks     0.0834      0.171      0.487      0.626      -0.252       0.419\n",
      "Forgetfulness                 0.0201      0.138      0.146      0.884      -0.250       0.290\n",
      "=============================================================================================\n"
     ]
    }
   ],
   "source": [
    "import pandas as pd\n",
    "import statsmodels.api as sm\n",
    "\n",
    "df['intercept'] = 1\n",
    "\n",
    "logit_model = sm.Logit(df['Diagnosis'], df[['intercept', 'SystolicBP', 'DiastolicBP', 'CholesterolTotal', 'CholesterolLDL', 'CholesterolHDL', 'CholesterolTriglycerides', 'MMSE', 'FunctionalAssessment', 'MemoryComplaints', 'BehavioralProblems', 'ADL', 'Confusion', 'Disorientation', 'PersonalityChanges', 'DifficultyCompletingTasks', 'Forgetfulness']])\n",
    "result = logit_model.fit()\n",
    "\n",
    "print(result.summary())\n"
   ]
  },
  {
   "cell_type": "markdown",
   "id": "f22d09ac-65f1-4f29-90ed-c6b089605c99",
   "metadata": {},
   "source": [
    "Статистическая значимость: Некоторые переменные статистически значимы (p-value < 0.05), например, MMSE, FunctionalAssessment, MemoryComplaints, BehavioralProblems, ADL. Другие переменные, такие как SystolicBP, DiastolicBP, CholesterolTotal, не являются статистически значимыми. Pseudo R-squared: Значение псевдо R-квадрата равно 0.4280. Это говорит о том, что модель объясняет 42.8% вариации в данных. Заключение: модель имеет неплохую объяснительную способность, но некоторые переменные не являются статистически значимыми.\n",
    "\n",
    "Гипотеза: различные клинические измерения и показатели могут быть связаны с риском развития болезни (диагноза Alzheimer’s Disease).\n",
    "\n",
    "Интерпретация результатов:\n",
    "\n",
    "Некоторые переменные, такие как MMSE, FunctionalAssessment, MemoryComplaints, BehavioralProblems, ADL, статистически значимы и имеют влияние на вероятность болезни. Другие переменные, такие как SystolicBP, DiastolicBP, CholesterolTotal, не являются статистически значимыми."
   ]
  },
  {
   "cell_type": "markdown",
   "id": "ec6c42ca-dba2-4b58-9a59-1c3ebfbcc524",
   "metadata": {},
   "source": [
    " использование модели логистической регрессии для предсказания вероятности развития болезни Альцгеймера"
   ]
  },
  {
   "cell_type": "code",
   "execution_count": 19,
   "id": "30f6eb36-76e0-4b3b-b42a-f4b8841b23ea",
   "metadata": {},
   "outputs": [
    {
     "name": "stdout",
     "output_type": "stream",
     "text": [
      "Отобранные признаки: Index(['Age', 'EducationLevel', 'Smoking', 'DiastolicBP', 'CholesterolHDL',\n",
      "       'MMSE', 'FunctionalAssessment', 'MemoryComplaints',\n",
      "       'BehavioralProblems', 'ADL'],\n",
      "      dtype='object')\n"
     ]
    }
   ],
   "source": [
    "import numpy as np\n",
    "import pandas as pd\n",
    "import matplotlib.pyplot as plt\n",
    "from sklearn.model_selection import train_test_split\n",
    "from sklearn.preprocessing import StandardScaler\n",
    "from sklearn.linear_model import LogisticRegression\n",
    "from sklearn.feature_selection import RFE\n",
    "from sklearn.metrics import classification_report, confusion_matrix\n",
    "\n",
    "data = pd.read_csv('alzheimers_disease_data.csv', sep=',')\n",
    "\n",
    "\n",
    "data.drop(columns=['DoctorInCharge', 'PatientID'], inplace=True)\n",
    "\n",
    "\n",
    "X = data.drop(columns=['Diagnosis'])\n",
    "y = data['Diagnosis']\n",
    "\n",
    "\n",
    "X_train, X_test, y_train, y_test = train_test_split(X, y, test_size=0.2, random_state=42)\n",
    "\n",
    "\n",
    "scaler = StandardScaler()\n",
    "X_train_scaled = scaler.fit_transform(X_train)\n",
    "X_test_scaled = scaler.transform(X_test)\n",
    "\n",
    "logreg = LogisticRegression(max_iter=1000)\n",
    "\n",
    "\n",
    "logreg.fit(X_train_scaled, y_train)\n",
    "\n",
    "\n",
    "rfe = RFE(logreg, n_features_to_select=10)  # Выберите желаемое количество признаков\n",
    "rfe.fit(X_train_scaled, y_train)\n",
    "\n",
    "\n",
    "selected_features = X.columns[rfe.support_]\n",
    "print(\"Отобранные признаки:\", selected_features)"
   ]
  },
  {
   "cell_type": "code",
   "execution_count": 32,
   "id": "e60c208f-b923-4769-a70c-8554e6e55e8c",
   "metadata": {},
   "outputs": [],
   "source": [
    "scaler_selected = StandardScaler()\n",
    "X_train_selected_scaled = scaler_selected.fit_transform(X_train[selected_features])\n",
    "X_test_selected_scaled = scaler_selected.transform(X_test[selected_features])"
   ]
  },
  {
   "cell_type": "code",
   "execution_count": 33,
   "id": "bc0b00fb-d52a-4ec2-9807-9ccd58add194",
   "metadata": {},
   "outputs": [],
   "source": [
    "\n",
    "logreg.fit(X_train_selected_scaled, y_train)\n",
    "\n",
    "\n",
    "y_pred = logreg.predict(X_test_selected_scaled)"
   ]
  },
  {
   "cell_type": "code",
   "execution_count": 34,
   "id": "dfff4d3e-9a12-487d-9b2e-710a41028be0",
   "metadata": {},
   "outputs": [
    {
     "name": "stdout",
     "output_type": "stream",
     "text": [
      "              precision    recall  f1-score   support\n",
      "\n",
      "           0       0.85      0.90      0.87       277\n",
      "           1       0.80      0.71      0.75       153\n",
      "\n",
      "    accuracy                           0.83       430\n",
      "   macro avg       0.82      0.81      0.81       430\n",
      "weighted avg       0.83      0.83      0.83       430\n",
      "\n"
     ]
    }
   ],
   "source": [
    "print(classification_report(y_test, y_pred))"
   ]
  },
  {
   "cell_type": "code",
   "execution_count": 35,
   "id": "bc59a8fd-43fb-49c8-ba9f-41e014f4f0a6",
   "metadata": {},
   "outputs": [
    {
     "name": "stdout",
     "output_type": "stream",
     "text": [
      "Матрица ошибок:\n",
      "[[249  28]\n",
      " [ 44 109]]\n"
     ]
    }
   ],
   "source": [
    "conf_matrix = confusion_matrix(y_test, y_pred)\n",
    "print(\"Матрица ошибок:\")\n",
    "print(conf_matrix)"
   ]
  },
  {
   "cell_type": "markdown",
   "id": "f0814ca8-4b32-4aa9-a98c-85bccf465cd6",
   "metadata": {},
   "source": [
    "Точность (Precision): Для класса 0 (отрицательный диагноз) точность составляет 85%, что означает, что из всех предсказанных отрицательных диагнозов 85% действительно являются отрицательными. Для класса 1 (положительный диагноз) точность составляет 80%, что означает, что из всех предсказанных положительных диагнозов 80% действительно являются положительными. Полнота (Recall): Для класса 0 полнота составляет 90%, что означает, что из всех действительных отрицательных диагнозов 90% были правильно предсказаны. Для класса 1 полнота составляет 71%, что означает, что из всех действительных положительных диагнозов 71% были правильно предсказаны. F1-мера (F1-score): F1-мера объединяет точность и полноту в одну метрику. Она равна среднему гармоническому между точностью и полнотой. Взвешенная F1-мера составляет 83%, что является хорошим показателем. Матрица ошибок: Верхний левый элемент (249) представляет количество верно предсказанных отрицательных диагнозов (True Negatives). Верхний правый элемент (28) представляет количество ложно предсказанных положительных диагнозов (False Positives). Нижний левый элемент (44) представляет количество ложно предсказанных отрицательных диагнозов (False Negatives). Нижний правый элемент (109) представляет количество верно предсказанных положительных диагнозов (True Positives). Общая точность модели составляет 83%, что говорит о том, что она хорошо справляется с прогнозированием диагноза."
   ]
  },
  {
   "cell_type": "code",
   "execution_count": 36,
   "id": "bbb260ab-b735-49a7-9432-bc5584bd49f9",
   "metadata": {},
   "outputs": [],
   "source": [
    "patient_features = np.array([[65, 3, 0, 80, 50, 25, 1, 1, 0, 1]])  # Пример значений\n",
    "patient_features_df = pd.DataFrame(patient_features, columns=selected_features)\n",
    "patient_features_scaled = scaler_selected.transform(patient_features_df)"
   ]
  },
  {
   "cell_type": "code",
   "execution_count": 37,
   "id": "24096705-0fbc-4ae0-947f-297e84cde3b1",
   "metadata": {},
   "outputs": [
    {
     "name": "stdout",
     "output_type": "stream",
     "text": [
      "Вероятность развития болезни Альцгеймера: 0.95\n"
     ]
    }
   ],
   "source": [
    "predicted_probability = logreg.predict_proba(patient_features_scaled)[0][1]\n",
    "print(f\"Вероятность развития болезни Альцгеймера: {predicted_probability:.2f}\")"
   ]
  },
  {
   "cell_type": "code",
   "execution_count": null,
   "id": "fdfcd931-136f-40dd-8bf8-780b904fdc81",
   "metadata": {},
   "outputs": [],
   "source": []
  }
 ],
 "metadata": {
  "kernelspec": {
   "display_name": "Python 3 (ipykernel)",
   "language": "python",
   "name": "python3"
  },
  "language_info": {
   "codemirror_mode": {
    "name": "ipython",
    "version": 3
   },
   "file_extension": ".py",
   "mimetype": "text/x-python",
   "name": "python",
   "nbconvert_exporter": "python",
   "pygments_lexer": "ipython3",
   "version": "3.12.4"
  }
 },
 "nbformat": 4,
 "nbformat_minor": 5
}
